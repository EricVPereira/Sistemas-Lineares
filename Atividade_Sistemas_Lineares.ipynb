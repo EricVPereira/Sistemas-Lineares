{
  "nbformat": 4,
  "nbformat_minor": 0,
  "metadata": {
    "colab": {
      "provenance": [],
      "authorship_tag": "ABX9TyMaVk5HeqwrkuDXEyBXe7Jw",
      "include_colab_link": true
    },
    "kernelspec": {
      "name": "python3",
      "display_name": "Python 3"
    },
    "language_info": {
      "name": "python"
    }
  },
  "cells": [
    {
      "cell_type": "markdown",
      "metadata": {
        "id": "view-in-github",
        "colab_type": "text"
      },
      "source": [
        "<a href=\"https://colab.research.google.com/github/EricVPereira/Sistemas-Lineares/blob/main/Atividade_Sistemas_Lineares.ipynb\" target=\"_parent\"><img src=\"https://colab.research.google.com/assets/colab-badge.svg\" alt=\"Open In Colab\"/></a>"
      ]
    },
    {
      "cell_type": "markdown",
      "source": [
        "# Exercicios\n",
        "## Resolver e classificar cada sistema linear em SPD; SPI, SI\n",
        "---\n",
        "1.   $$  2x - y = 7 $$\n",
        "$$ x + 5y = -2 $$\n",
        "\n"
      ],
      "metadata": {
        "id": "_xT323IS_MDL"
      }
    },
    {
      "cell_type": "code",
      "execution_count": null,
      "metadata": {
        "colab": {
          "base_uri": "https://localhost:8080/"
        },
        "id": "QkbtMm-o5qaa",
        "outputId": "0917f6ad-55a7-40c5-8c89-05d11e1fcaaf"
      },
      "outputs": [
        {
          "output_type": "stream",
          "name": "stdout",
          "text": [
            "[[ 2 -1]\n",
            " [ 1  5]]\n",
            "SPD\n",
            "[ 3. -1.]\n"
          ]
        }
      ],
      "source": [
        "import numpy as np\n",
        "\n",
        "A = np.array([[2,-1],[1,5]]) # matriz dos coeficientes\n",
        "print(A)\n",
        "B = np.array([7,-2])         # termos independentes\n",
        "Ax = np.array([[7,-1],[-2,5]])   # troca coluna x pelo termo independente\n",
        "detA = np.linalg.det(A)\n",
        "detAx = np.linalg.det(Ax)\n",
        "\n",
        "# Analisar os determinantes\n",
        "\n",
        "if detA !=0:\n",
        "  S = np.linalg.solve(A,B)\n",
        "  print(\"SPD\")\n",
        "  print(S)\n",
        "else:\n",
        "  if detA ==0 and detAx ==0:\n",
        "    print(\"SPI\")\n",
        "  else:\n",
        "    print(\"SI\")"
      ]
    },
    {
      "cell_type": "markdown",
      "source": [
        "2. $$ x + 2y - z = 0 $$\n",
        "$$ 3x - 4y + 5z = 10 $$\n",
        "$$ x + y + 9z = 1 $$"
      ],
      "metadata": {
        "id": "KKODSsqr_U5I"
      }
    },
    {
      "cell_type": "code",
      "source": [
        "import numpy as np\n",
        "\n",
        "A = np.array([[1,2,-1],[3,-4,5],[1,1,9]]) # matriz dos coeficientes\n",
        "print(A)\n",
        "B = np.array([0,10,1])         # termos independentes\n",
        "Ax = np.array([[0,2,-1],[10,-4,5],[1,1,9]])   # troca coluna x pelo termo independente\n",
        "detA = np.linalg.det(A)\n",
        "detAx = np.linalg.det(Ax)\n",
        "\n",
        "# Analisar os determinantes\n",
        "\n",
        "if detA !=0:\n",
        "  S = np.linalg.solve(A,B)\n",
        "  print(\"SPD\")\n",
        "  print(S)\n",
        "else:\n",
        "  if detA ==0 and detAx ==0:\n",
        "    print(\"SPI\")\n",
        "  else:\n",
        "    print(\"SI\")"
      ],
      "metadata": {
        "colab": {
          "base_uri": "https://localhost:8080/"
        },
        "id": "MuxPjaNt_Y0x",
        "outputId": "b81243c3-f414-4791-f7ff-579390390736"
      },
      "execution_count": null,
      "outputs": [
        {
          "output_type": "stream",
          "name": "stdout",
          "text": [
            "[[ 1  2 -1]\n",
            " [ 3 -4  5]\n",
            " [ 1  1  9]]\n",
            "SPD\n",
            "[ 2.00000000e+00 -1.00000000e+00  4.82705663e-17]\n"
          ]
        }
      ]
    },
    {
      "cell_type": "markdown",
      "source": [
        "3. $$ x + 2y = 5 $$\n",
        "$$ 2x - 3y = -4 $$"
      ],
      "metadata": {
        "id": "UPWBDNx1_c5H"
      }
    },
    {
      "cell_type": "code",
      "source": [
        "import numpy as np\n",
        "\n",
        "A = np.array([[1,2],[2,-3]]) # matriz dos coeficientes\n",
        "print(A)\n",
        "B = np.array([5,-4])         # termos independentes\n",
        "Ax = np.array([[5,2],[-4,-3]])   # troca coluna x pelo termo independente\n",
        "detA = np.linalg.det(A)\n",
        "detAx = np.linalg.det(Ax)\n",
        "\n",
        "# Analisar os determinantes\n",
        "\n",
        "if detA !=0:\n",
        "  S = np.linalg.solve(A,B)\n",
        "  print(\"SPD\")\n",
        "  print(S)\n",
        "else:\n",
        "  if detA ==0 and detAx ==0:\n",
        "    print(\"SPI\")\n",
        "  else:\n",
        "    print(\"SI\")"
      ],
      "metadata": {
        "colab": {
          "base_uri": "https://localhost:8080/"
        },
        "id": "-8cCNgBP_gan",
        "outputId": "32046d89-ec7f-402b-f856-df57ebeb7d45"
      },
      "execution_count": null,
      "outputs": [
        {
          "output_type": "stream",
          "name": "stdout",
          "text": [
            "[[ 1  2]\n",
            " [ 2 -3]]\n",
            "SPD\n",
            "[1. 2.]\n"
          ]
        }
      ]
    },
    {
      "cell_type": "markdown",
      "source": [
        "4. $$ x + y = 5 $$\n",
        "$$ 2x + 2y = 10 $$"
      ],
      "metadata": {
        "id": "AfyukH64_j4f"
      }
    },
    {
      "cell_type": "code",
      "source": [
        "import numpy as np\n",
        "\n",
        "A = np.array([[1,1],[2,2]]) # matriz dos coeficientes\n",
        "print(A)\n",
        "B = np.array([5,10])         # termos independentes\n",
        "Ax = np.array([[5,1],[10,2]])   # troca coluna x pelo termo independente\n",
        "detA = np.linalg.det(A)\n",
        "detAx = np.linalg.det(Ax)\n",
        "\n",
        "# Analisar os determinantes\n",
        "\n",
        "if detA !=0:\n",
        "  S = np.linalg.solve(A,B)\n",
        "  print(\"SPD\")\n",
        "  print(S)\n",
        "else:\n",
        "  if detA ==0 and detAx ==0:\n",
        "    print(\"SPI\")\n",
        "  else:\n",
        "    print(\"SI\")"
      ],
      "metadata": {
        "colab": {
          "base_uri": "https://localhost:8080/"
        },
        "id": "GvgWb06w_n3H",
        "outputId": "cfb3b47c-983d-4606-899d-f99c9ca6afe1"
      },
      "execution_count": null,
      "outputs": [
        {
          "output_type": "stream",
          "name": "stdout",
          "text": [
            "[[1 1]\n",
            " [2 2]]\n",
            "SPI\n"
          ]
        }
      ]
    },
    {
      "cell_type": "markdown",
      "source": [
        "5. $$ 2a - b + c = 3 $$\n",
        "$$ a - b + 2c = 3 $$\n",
        "$$ a + b + c = 6 $$"
      ],
      "metadata": {
        "id": "MgVcmK_a_rVH"
      }
    },
    {
      "cell_type": "code",
      "source": [
        "import numpy as np\n",
        "\n",
        "A = np.array([[2,-1,1],[1,-1,2],[1,1,1]]) # matriz dos coeficientes\n",
        "print(A)\n",
        "B = np.array([3,3,6])         # termos independentes\n",
        "Ax = np.array([[3,-1,1],[3,-1,2],[6,1,1]])   # troca coluna x pelo termo independente\n",
        "detA = np.linalg.det(A)\n",
        "detAx = np.linalg.det(Ax)\n",
        "\n",
        "# Analisar os determinantes\n",
        "\n",
        "if detA !=0:\n",
        "  S = np.linalg.solve(A,B)\n",
        "  print(\"SPD\")\n",
        "  print(S)\n",
        "else:\n",
        "  if detA ==0 and detAx ==0:\n",
        "    print(\"SPI\")\n",
        "  else:\n",
        "    print(\"SI\")"
      ],
      "metadata": {
        "colab": {
          "base_uri": "https://localhost:8080/"
        },
        "id": "0n-pnJrI_u1I",
        "outputId": "8b35191d-e06c-4581-e673-9de67ecb64aa"
      },
      "execution_count": null,
      "outputs": [
        {
          "output_type": "stream",
          "name": "stdout",
          "text": [
            "[[ 2 -1  1]\n",
            " [ 1 -1  2]\n",
            " [ 1  1  1]]\n",
            "SPD\n",
            "[1.8 2.4 1.8]\n"
          ]
        }
      ]
    },
    {
      "cell_type": "markdown",
      "source": [
        "6. $$ x + 4y + 7z = 2 $$\n",
        "$$ 2x + 3y + 6z = 2 $$ \n",
        "$$ 5x + y - z = 8 $$"
      ],
      "metadata": {
        "id": "iih7kvaD_yjm"
      }
    },
    {
      "cell_type": "code",
      "source": [
        "import numpy as np\n",
        "\n",
        "A = np.array([[1,4,7],[2,3,6],[5,1,-1]]) # matriz dos coeficientes\n",
        "print(A)\n",
        "B = np.array([2,2,8])         # termos independentes\n",
        "Ax = np.array([[2,4,7],[2,3,6],[8,1,-1]])   # troca coluna x pelo termo independente\n",
        "detA = np.linalg.det(A)\n",
        "detAx = np.linalg.det(Ax)\n",
        "\n",
        "# Analisar os determinantes\n",
        "\n",
        "if detA !=0:\n",
        "  S = np.linalg.solve(A,B)\n",
        "  print(\"SPD\")\n",
        "  print(S)\n",
        "else:\n",
        "  if detA ==0 and detAx ==0:\n",
        "    print(\"SPI\")\n",
        "  else:\n",
        "    print(\"SI\")"
      ],
      "metadata": {
        "colab": {
          "base_uri": "https://localhost:8080/"
        },
        "id": "W9TIf5TR_1pp",
        "outputId": "a198785f-ee4d-41d4-aa09-505d4905bd5b"
      },
      "execution_count": null,
      "outputs": [
        {
          "output_type": "stream",
          "name": "stdout",
          "text": [
            "[[ 1  4  7]\n",
            " [ 2  3  6]\n",
            " [ 5  1 -1]]\n",
            "SPD\n",
            "[ 1.  2. -1.]\n"
          ]
        }
      ]
    }
  ]
}