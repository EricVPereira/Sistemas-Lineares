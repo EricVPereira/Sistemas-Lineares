{
  "nbformat": 4,
  "nbformat_minor": 0,
  "metadata": {
    "colab": {
      "provenance": [],
      "collapsed_sections": [],
      "authorship_tag": "ABX9TyN8BEgAhBS9O4UUVu/7e+Bb",
      "include_colab_link": true
    },
    "kernelspec": {
      "name": "python3",
      "display_name": "Python 3"
    },
    "language_info": {
      "name": "python"
    }
  },
  "cells": [
    {
      "cell_type": "markdown",
      "metadata": {
        "id": "view-in-github",
        "colab_type": "text"
      },
      "source": [
        "<a href=\"https://colab.research.google.com/github/EricVPereira/Sistemas-Lineares/blob/main/Atividade2_Sistemas_Lineares.ipynb\" target=\"_parent\"><img src=\"https://colab.research.google.com/assets/colab-badge.svg\" alt=\"Open In Colab\"/></a>"
      ]
    },
    {
      "cell_type": "markdown",
      "source": [
        "# Atividade 2\n",
        "\n",
        "1.   $$ 2a - b = 5 $$\n",
        "$$ 4a - 2b = 10 $$\n",
        "\n",
        "\n",
        "\n"
      ],
      "metadata": {
        "id": "QbXfNaONHbDj"
      }
    },
    {
      "cell_type": "code",
      "execution_count": 1,
      "metadata": {
        "colab": {
          "base_uri": "https://localhost:8080/"
        },
        "id": "WXDiZ1UhGc1T",
        "outputId": "be98a72f-953a-44a5-8a3e-fd586adeb2d6"
      },
      "outputs": [
        {
          "output_type": "stream",
          "name": "stdout",
          "text": [
            "[[ 2 -1]\n",
            " [ 4 -2]]\n",
            "SPI\n"
          ]
        }
      ],
      "source": [
        "import numpy as np\n",
        "\n",
        "A = np.array([[2,-1],[4,-2]]) # matriz dos coeficientes\n",
        "print(A)\n",
        "B = np.array([5,10])         # termos independentes\n",
        "Ax = np.array([[5,-1],[10,-2]])   # troca coluna x pelo termo independente\n",
        "detA = np.linalg.det(A)\n",
        "detAx = np.linalg.det(Ax)\n",
        "\n",
        "# Analisar os determinantes\n",
        "\n",
        "if detA !=0:\n",
        "  S = np.linalg.solve(A,B)\n",
        "  print(\"SPD\")\n",
        "  print(S)\n",
        "else:\n",
        "  if detA ==0 and detAx ==0:\n",
        "    print(\"SPI\")\n",
        "  else:\n",
        "    print(\"SI\")"
      ]
    },
    {
      "cell_type": "markdown",
      "source": [
        "\n",
        "2.   $$ -4m + 1n + 0p = 1 $$\n",
        "$$ 3m + 5n - 2p = 2 $$\n",
        "$$ 1m + 0n + 6p = 3 $$\n",
        "\n"
      ],
      "metadata": {
        "id": "CHF2rGYrI2ru"
      }
    },
    {
      "cell_type": "code",
      "source": [
        "import numpy as np\n",
        "\n",
        "A = np.array([[-4,1,0],[3,5,-2],[1,0,6]]) # matriz dos coeficientes\n",
        "print(A)\n",
        "B = np.array([1,2,3])         # termos independentes\n",
        "Ax = np.array([[1,1,0],[2,5,-2],[3,0,6]])   # troca coluna x pelo termo independente\n",
        "detA = np.linalg.det(A)\n",
        "detAx = np.linalg.det(Ax)\n",
        "\n",
        "# Analisar os determinantes\n",
        "\n",
        "if detA !=0:\n",
        "  S = np.linalg.solve(A,B)\n",
        "  print(\"SPD\")\n",
        "  print(S)\n",
        "else:\n",
        "  if detA ==0 and detAx ==0:\n",
        "    print(\"SPI\")\n",
        "  else:\n",
        "    print(\"SI\")"
      ],
      "metadata": {
        "colab": {
          "base_uri": "https://localhost:8080/"
        },
        "id": "zFIVoPd7JpXG",
        "outputId": "d25b921f-c0c2-4090-95d0-ebaec60ffdac"
      },
      "execution_count": 2,
      "outputs": [
        {
          "output_type": "stream",
          "name": "stdout",
          "text": [
            "[[-4  1  0]\n",
            " [ 3  5 -2]\n",
            " [ 1  0  6]]\n",
            "SPD\n",
            "[-0.08571429  0.65714286  0.51428571]\n"
          ]
        }
      ]
    },
    {
      "cell_type": "markdown",
      "source": [
        "\n",
        "3.   $$ x + 2y +4z = 5 $$\n",
        "$$ 2x - y + 2z = 8 $$\n",
        "$$ 3x - 3y - z = 7 $$\n",
        "\n"
      ],
      "metadata": {
        "id": "Cj1FO7AjKJvb"
      }
    },
    {
      "cell_type": "code",
      "source": [
        "import numpy as np\n",
        "\n",
        "A = np.array([[1,2,4],[2,-1,2],[3,-3,-1]]) # matriz dos coeficientes\n",
        "print(A)\n",
        "B = np.array([5,8,7])         # termos independentes\n",
        "Ax = np.array([[5,2,4],[8,-1,2],[7,-3,-1]])   # troca coluna x pelo termo independente\n",
        "detA = np.linalg.det(A)\n",
        "detAx = np.linalg.det(Ax)\n",
        "\n",
        "# Analisar os determinantes\n",
        "\n",
        "if detA !=0:\n",
        "  S = np.linalg.solve(A,B)\n",
        "  print(\"SPD\")\n",
        "  print(S)\n",
        "else:\n",
        "  if detA ==0 and detAx ==0:\n",
        "    print(\"SPI\")\n",
        "  else:\n",
        "    print(\"SI\")"
      ],
      "metadata": {
        "colab": {
          "base_uri": "https://localhost:8080/"
        },
        "id": "MBcuC3c_Kng_",
        "outputId": "31d75d5f-5f31-4445-ce74-5677799f058e"
      },
      "execution_count": 3,
      "outputs": [
        {
          "output_type": "stream",
          "name": "stdout",
          "text": [
            "[[ 1  2  4]\n",
            " [ 2 -1  2]\n",
            " [ 3 -3 -1]]\n",
            "SPD\n",
            "[ 1. -2.  2.]\n"
          ]
        }
      ]
    },
    {
      "cell_type": "markdown",
      "source": [
        "\n",
        "4.   $$ x + 2y - z = 8 $$\n",
        "$$ 2x + 3y + z = 1 $$\n",
        "$$ 5x + 3y - 2z = -11 $$\n",
        "\n",
        "\n"
      ],
      "metadata": {
        "id": "_oPeBeWpLEWN"
      }
    },
    {
      "cell_type": "code",
      "source": [
        "import numpy as np\n",
        "\n",
        "A = np.array([[1,2,-1],[2,3,1],[5,3,-2]]) # matriz dos coeficientes\n",
        "print(A)\n",
        "B = np.array([8,1,-11])         # termos independentes\n",
        "Ax = np.array([[8,2,-1],[1,3,1],[-11,3,-2]])   # troca coluna x pelo termo independente\n",
        "detA = np.linalg.det(A)\n",
        "detAx = np.linalg.det(Ax)\n",
        "\n",
        "# Analisar os determinantes\n",
        "\n",
        "if detA !=0:\n",
        "  S = np.linalg.solve(A,B)\n",
        "  print(\"SPD\")\n",
        "  print(S)\n",
        "else:\n",
        "  if detA ==0 and detAx ==0:\n",
        "    print(\"SPI\")\n",
        "  else:\n",
        "    print(\"SI\")"
      ],
      "metadata": {
        "colab": {
          "base_uri": "https://localhost:8080/"
        },
        "id": "pZwVyTWzLe94",
        "outputId": "a2f98fc9-940b-4399-f2de-589d76d18f4b"
      },
      "execution_count": 4,
      "outputs": [
        {
          "output_type": "stream",
          "name": "stdout",
          "text": [
            "[[ 1  2 -1]\n",
            " [ 2  3  1]\n",
            " [ 5  3 -2]]\n",
            "SPD\n",
            "[-7.  6. -3.]\n"
          ]
        }
      ]
    },
    {
      "cell_type": "markdown",
      "source": [
        "\n",
        "5.   $$ x + y - z = 0 $$\n",
        "$$ x + y + z = 200000 $$\n",
        "$$ 0,15x + 0,10y + 0,06z = 20000 $$\n"
      ],
      "metadata": {
        "id": "929I1qXxL0hV"
      }
    },
    {
      "cell_type": "code",
      "source": [
        "import numpy as np\n",
        "\n",
        "A = np.array([[1,1,-1],[1,1,1],[0.15,0.1,0.06]]) # matriz dos coeficientes\n",
        "print(A)\n",
        "B = np.array([0,200000,20000])         # termos independentes\n",
        "Ax = np.array([[0,1,-1],[200000,1,1],[20000,0.1,0.06]])   # troca coluna x pelo termo independente\n",
        "detA = np.linalg.det(A)\n",
        "detAx = np.linalg.det(Ax)\n",
        "\n",
        "# Analisar os determinantes\n",
        "\n",
        "if detA !=0:\n",
        "  S = np.linalg.solve(A,B)\n",
        "  print(\"SPD\")\n",
        "  print(S)\n",
        "else:\n",
        "  if detA ==0 and detAx ==0:\n",
        "    print(\"SPI\")\n",
        "  else:\n",
        "    print(\"SI\")"
      ],
      "metadata": {
        "colab": {
          "base_uri": "https://localhost:8080/"
        },
        "id": "W1Dg1cHcMbqH",
        "outputId": "eb84366d-dfbc-4cd7-d2c9-be670f383f65"
      },
      "execution_count": 5,
      "outputs": [
        {
          "output_type": "stream",
          "name": "stdout",
          "text": [
            "[[ 1.    1.   -1.  ]\n",
            " [ 1.    1.    1.  ]\n",
            " [ 0.15  0.1   0.06]]\n",
            "SPD\n",
            "[ 80000.  20000. 100000.]\n"
          ]
        }
      ]
    }
  ]
}